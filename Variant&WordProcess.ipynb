{
 "cells": [
  {
   "cell_type": "code",
   "execution_count": 1,
   "metadata": {},
   "outputs": [],
   "source": [
    "import pandas as pd"
   ]
  },
  {
   "cell_type": "code",
   "execution_count": 201,
   "metadata": {},
   "outputs": [],
   "source": [
    "df_full = pd.read_excel('InternationalDeclarations.xlsx')\n",
    "df_full = df_full[['id-trace','concept:name','time:timestamp']]\n",
    "df_full.columns = ['case:concept:name', 'concept:name', 'time:timestamp']\n",
    "df_full['time:timestamp'] = pd.to_datetime(df_full['time:timestamp'])\n",
    "df_full = df_full.sort_values(['case:concept:name','time:timestamp'], ascending=[True,True])\n",
    "df_full = df_full.reset_index(drop=True)"
   ]
  },
  {
   "cell_type": "code",
   "execution_count": 202,
   "metadata": {},
   "outputs": [
    {
     "data": {
      "text/html": [
       "<div>\n",
       "<style scoped>\n",
       "    .dataframe tbody tr th:only-of-type {\n",
       "        vertical-align: middle;\n",
       "    }\n",
       "\n",
       "    .dataframe tbody tr th {\n",
       "        vertical-align: top;\n",
       "    }\n",
       "\n",
       "    .dataframe thead th {\n",
       "        text-align: right;\n",
       "    }\n",
       "</style>\n",
       "<table border=\"1\" class=\"dataframe\">\n",
       "  <thead>\n",
       "    <tr style=\"text-align: right;\">\n",
       "      <th></th>\n",
       "      <th>case:concept:name</th>\n",
       "      <th>concept:name</th>\n",
       "      <th>time:timestamp</th>\n",
       "    </tr>\n",
       "  </thead>\n",
       "  <tbody>\n",
       "    <tr>\n",
       "      <th>0</th>\n",
       "      <td>declaration 1002</td>\n",
       "      <td>Permit SUBMITTED by EMPLOYEE</td>\n",
       "      <td>2018-03-01 09:55:17</td>\n",
       "    </tr>\n",
       "    <tr>\n",
       "      <th>1</th>\n",
       "      <td>declaration 1002</td>\n",
       "      <td>Permit APPROVED by ADMINISTRATION</td>\n",
       "      <td>2018-03-01 09:55:21</td>\n",
       "    </tr>\n",
       "    <tr>\n",
       "      <th>2</th>\n",
       "      <td>declaration 1002</td>\n",
       "      <td>Permit FINAL_APPROVED by SUPERVISOR</td>\n",
       "      <td>2018-03-01 14:01:48</td>\n",
       "    </tr>\n",
       "    <tr>\n",
       "      <th>3</th>\n",
       "      <td>declaration 1002</td>\n",
       "      <td>Start trip</td>\n",
       "      <td>2018-03-18 23:00:00</td>\n",
       "    </tr>\n",
       "    <tr>\n",
       "      <th>4</th>\n",
       "      <td>declaration 1002</td>\n",
       "      <td>End trip</td>\n",
       "      <td>2018-03-22 23:00:00</td>\n",
       "    </tr>\n",
       "  </tbody>\n",
       "</table>\n",
       "</div>"
      ],
      "text/plain": [
       "  case:concept:name                         concept:name      time:timestamp\n",
       "0  declaration 1002         Permit SUBMITTED by EMPLOYEE 2018-03-01 09:55:17\n",
       "1  declaration 1002    Permit APPROVED by ADMINISTRATION 2018-03-01 09:55:21\n",
       "2  declaration 1002  Permit FINAL_APPROVED by SUPERVISOR 2018-03-01 14:01:48\n",
       "3  declaration 1002                           Start trip 2018-03-18 23:00:00\n",
       "4  declaration 1002                             End trip 2018-03-22 23:00:00"
      ]
     },
     "execution_count": 202,
     "metadata": {},
     "output_type": "execute_result"
    }
   ],
   "source": [
    "df_full.head()"
   ]
  },
  {
   "cell_type": "code",
   "execution_count": null,
   "metadata": {},
   "outputs": [],
   "source": [
    "# Создадим словарь объединения событий и примапим его"
   ]
  },
  {
   "cell_type": "code",
   "execution_count": 110,
   "metadata": {},
   "outputs": [],
   "source": [
    "_dict = {'Permit SUBMITTED by EMPLOYEE': 'Permit SUBMITTED',\n",
    " 'Permit APPROVED by ADMINISTRATION': 'Permit APPROVED',\n",
    " 'Permit APPROVED by BUDGET OWNER': 'Permit APPROVED',\n",
    " 'Permit APPROVED by PRE_APPROVER': 'Permit APPROVED',\n",
    " 'Permit APPROVED by SUPERVISOR': 'Permit APPROVED',\n",
    " 'Permit FINAL_APPROVED by DIRECTOR': 'Permit FINAL_APPROVED',\n",
    " 'Permit FINAL_APPROVED by SUPERVISOR': 'Permit FINAL_APPROVED',\n",
    " 'Start trip': 'Start trip',\n",
    " 'End trip': 'End trip',\n",
    " 'Permit REJECTED by ADMINISTRATION': 'Permit REJECTED',\n",
    " 'Permit REJECTED by BUDGET OWNER': 'Permit REJECTED',\n",
    " 'Permit REJECTED by DIRECTOR': 'Permit REJECTED',\n",
    " 'Permit REJECTED by EMPLOYEE': 'Permit REJECTED',\n",
    " 'Permit REJECTED by MISSING': 'Permit REJECTED',\n",
    " 'Permit REJECTED by PRE_APPROVER': 'Permit REJECTED',\n",
    " 'Permit REJECTED by SUPERVISOR': 'Permit REJECTED',\n",
    " 'Declaration SUBMITTED by EMPLOYEE': 'Declaration SUBMITTED',\n",
    " 'Declaration SAVED by EMPLOYEE': 'Declaration SAVED',\n",
    " 'Declaration APPROVED by ADMINISTRATION': 'Declaration APPROVED',\n",
    " 'Declaration APPROVED by BUDGET OWNER': 'Declaration APPROVED',\n",
    " 'Declaration APPROVED by PRE_APPROVER': 'Declaration APPROVED',\n",
    " 'Declaration APPROVED by SUPERVISOR': 'Declaration APPROVED',\n",
    " 'Declaration FINAL_APPROVED by DIRECTOR': 'Declaration FINAL_APPROVED',\n",
    " 'Declaration FINAL_APPROVED by SUPERVISOR': 'Declaration FINAL_APPROVED',\n",
    " 'Declaration REJECTED by ADMINISTRATION': 'Declaration REJECTED',\n",
    " 'Declaration REJECTED by BUDGET OWNER': 'Declaration REJECTED',\n",
    " 'Declaration REJECTED by DIRECTOR': 'Declaration REJECTED',\n",
    " 'Declaration REJECTED by EMPLOYEE': 'Declaration REJECTED',\n",
    " 'Declaration REJECTED by MISSING': 'Declaration REJECTED',\n",
    " 'Declaration REJECTED by PRE_APPROVER': 'Declaration REJECTED',\n",
    " 'Declaration REJECTED by SUPERVISOR': 'Declaration REJECTED',\n",
    " 'Request Payment': 'Request Payment',\n",
    " 'Payment Handled': 'Payment Handled',\n",
    " 'Send Reminder': 'Send Reminder'}\n",
    "\n",
    "df_full_gr = df_full.copy()\n",
    "df_full_gr['concept:name'] = df_full_gr['concept:name'].map(_dict)"
   ]
  },
  {
   "cell_type": "code",
   "execution_count": null,
   "metadata": {},
   "outputs": [],
   "source": [
    "# Получим варианты"
   ]
  },
  {
   "cell_type": "code",
   "execution_count": 111,
   "metadata": {},
   "outputs": [],
   "source": [
    "variant = df_full_gr.groupby('case:concept:name')['concept:name'].agg(lambda col: ' -> '.join(col))\n",
    "df_variant = pd.DataFrame(variant)\n",
    "df_variant.columns = ['variant']"
   ]
  },
  {
   "cell_type": "code",
   "execution_count": null,
   "metadata": {},
   "outputs": [],
   "source": [
    "# Выведем на экран несколько цепочек"
   ]
  },
  {
   "cell_type": "code",
   "execution_count": 226,
   "metadata": {},
   "outputs": [
    {
     "name": "stdout",
     "output_type": "stream",
     "text": [
      "Permit SUBMITTED -> Permit APPROVED -> Permit FINAL_APPROVED -> Start trip -> Declaration SUBMITTED -> End trip -> Declaration REJECTED -> Declaration REJECTED -> Declaration SUBMITTED -> Declaration APPROVED -> Declaration FINAL_APPROVED -> Request Payment -> Payment Handled\n",
      "\n",
      "Permit SUBMITTED -> Permit APPROVED -> Permit APPROVED -> Permit FINAL_APPROVED -> Start trip -> End trip -> Send Reminder -> Declaration SUBMITTED -> Declaration APPROVED -> Declaration APPROVED -> Declaration FINAL_APPROVED -> Request Payment -> Payment Handled\n",
      "\n",
      "Permit SUBMITTED -> Permit APPROVED -> Permit FINAL_APPROVED -> Start trip -> End trip -> Declaration SUBMITTED -> Declaration APPROVED -> Declaration FINAL_APPROVED -> Request Payment -> Payment Handled\n",
      "\n",
      "Permit SUBMITTED -> Permit APPROVED -> Permit APPROVED -> Permit FINAL_APPROVED -> Start trip -> End trip -> Declaration SUBMITTED -> Declaration APPROVED -> Declaration APPROVED -> Declaration FINAL_APPROVED -> Request Payment -> Payment Handled\n",
      "\n"
     ]
    }
   ],
   "source": [
    "for row in df_variant['variant'][6:10]:\n",
    "    print(row)\n",
    "    print('')"
   ]
  },
  {
   "cell_type": "code",
   "execution_count": 227,
   "metadata": {},
   "outputs": [
    {
     "name": "stdout",
     "output_type": "stream",
     "text": [
      "A Declaration SUBMITTED\n",
      "B Permit APPROVED\n",
      "C Declaration APPROVED\n",
      "D End trip\n",
      "E Start trip\n",
      "F Declaration FINAL_APPROVED\n",
      "G Permit SUBMITTED\n",
      "H Payment Handled\n",
      "I Request Payment\n",
      "J Permit FINAL_APPROVED\n",
      "K Declaration REJECTED\n",
      "L Permit REJECTED\n",
      "M Send Reminder\n",
      "N Declaration SAVED\n"
     ]
    }
   ],
   "source": [
    "#Очевидно что с такими вариантами работать неудобно, поэтому прибегнем к использованию \"слов процесса\"\n",
    "import string\n",
    "graph_word_dict = {}\n",
    "for index,x in enumerate(df_full_gr['concept:name'].value_counts().keys()):\n",
    "    graph_word_dict[x] = string.ascii_uppercase[index]\n",
    "    print(string.ascii_uppercase[index]+' '+x)\n",
    "df_full_gr['short:concept:name'] = df_full_gr['concept:name'].map(graph_word_dict)"
   ]
  },
  {
   "cell_type": "code",
   "execution_count": null,
   "metadata": {},
   "outputs": [],
   "source": [
    "# Получим варианты"
   ]
  },
  {
   "cell_type": "code",
   "execution_count": 228,
   "metadata": {},
   "outputs": [],
   "source": [
    "variant_short = df_full_gr.groupby('case:concept:name')['short:concept:name'].agg(lambda col: ''.join(col))\n",
    "df_variant_short = pd.DataFrame(variant_short)\n",
    "df_variant_short.columns = ['variant']"
   ]
  },
  {
   "cell_type": "code",
   "execution_count": 231,
   "metadata": {},
   "outputs": [
    {
     "data": {
      "text/plain": [
       "GBJEDACFIH                     1689\n",
       "GBBJEDACCFIH                    652\n",
       "GJEDAFIH                        361\n",
       "GBJEDAKKACFIH                   350\n",
       "GBBJEDAKKACCFIH                 208\n",
       "EDGBJACFIH                      178\n",
       "GBBJEDACFIH                     127\n",
       "ACFIHED                         126\n",
       "AFIHED                          111\n",
       "GBJEDMACFIH                      94\n",
       "ACCFIHED                         87\n",
       "GBEJDACFIH                       86\n",
       "GBBBJEDACCFIH                    64\n",
       "GJEDACFIH                        64\n",
       "GBJEDACCFIH                      63\n",
       "EDGBBJACCFIH                     63\n",
       "GBJEDAKKAKKACFIH                 52\n",
       "GBJEDAFIH                        51\n",
       "GBBJEDMACCFIH                    49\n",
       "GBJEDAKK                         48\n",
       "GBEDJACFIH                       47\n",
       "GBBJEDAKKAKKACCFIH               42\n",
       "EGBJACFIHD                       37\n",
       "EDGJAFIH                         36\n",
       "GBBJEDAKKACFIH                   36\n",
       "GBBEJDACCFIH                     34\n",
       "EDGBJAKKACFIH                    31\n",
       "GBJEDACKKACFIH                   31\n",
       "EGBJDACFIH                       28\n",
       "GBBEDJACCFIH                     27\n",
       "                               ... \n",
       "GBBJEDAKKACKKAKKAKKACCFIH         1\n",
       "EDGBBLLGBJACFIH                   1\n",
       "GEDBBJMAKKAKKACCFIH               1\n",
       "GLLGBEJDACFIH                     1\n",
       "GBEDJAKACFIH                      1\n",
       "EDGLLGBLLGBBJMMAKKAKKACCFIH       1\n",
       "EDGBBJAKKACCKKAKKACFIH            1\n",
       "GBBJAEDCFIH                       1\n",
       "AEDCKKAKKACCCFIH                  1\n",
       "EGBBJAKKAKKACFIHD                 1\n",
       "GBJAKEKD                          1\n",
       "AKKEACFDIH                        1\n",
       "EDGBJAKKACKKAKK                   1\n",
       "GBBJEDAKKAKKAKK                   1\n",
       "GBJAKKAKKED                       1\n",
       "EGJDAFKAFIH                       1\n",
       "EDGBBLLGBBJACCFIH                 1\n",
       "GLLGBBBJEADCCFIH                  1\n",
       "GBJEDAKACFIH                      1\n",
       "GBJLGBJEDACFIH                    1\n",
       "GJACFIHED                         1\n",
       "GBBJAKKACCFEDIH                   1\n",
       "GBLLGBLLGBBJEDACCFIH              1\n",
       "GBJAKKACFIEHD                     1\n",
       "EGBBBJACCKKD                      1\n",
       "GBBEJDMAKKAKKACCFIH               1\n",
       "GBJEDAKKAKKAKKACCFIH              1\n",
       "EGBJDAFIH                         1\n",
       "GBEDBJMACFIH                      1\n",
       "EGBBJACDCFIH                      1\n",
       "Name: variant, Length: 621, dtype: int64"
      ]
     },
     "execution_count": 231,
     "metadata": {},
     "output_type": "execute_result"
    }
   ],
   "source": [
    "df_variant_short['variant'].value_counts()"
   ]
  },
  {
   "cell_type": "code",
   "execution_count": 235,
   "metadata": {},
   "outputs": [],
   "source": [
    "#Если заранее составить перечень корректных вариантов развития процесса, без отклонений от ВНД, то возможно выполнение мониторинга вариантов процесса с отклонениями"
   ]
  },
  {
   "cell_type": "code",
   "execution_count": 242,
   "metadata": {},
   "outputs": [],
   "source": [
    "no_dev = ['GBJEDACFIH','GBBJEDACCFIH','GJEDAFIH','GBJEDAKKACFIH','GBBJEDACFIH',\n",
    "        'EDGBJACFIH','EDGBBJACCFIH','ACFIHED','GBJEDMACFIH','GJEDACFIH']"
   ]
  },
  {
   "cell_type": "code",
   "execution_count": 243,
   "metadata": {},
   "outputs": [
    {
     "data": {
      "text/plain": [
       "GBBJEDAKKACCFIH         208\n",
       "AFIHED                  111\n",
       "ACCFIHED                 87\n",
       "GBEJDACFIH               86\n",
       "GBBBJEDACCFIH            64\n",
       "GBJEDACCFIH              63\n",
       "GBJEDAKKAKKACFIH         52\n",
       "GBJEDAFIH                51\n",
       "GBBJEDMACCFIH            49\n",
       "GBJEDAKK                 48\n",
       "GBEDJACFIH               47\n",
       "GBBJEDAKKAKKACCFIH       42\n",
       "EGBJACFIHD               37\n",
       "EDGJAFIH                 36\n",
       "GBBJEDAKKACFIH           36\n",
       "GBBEJDACCFIH             34\n",
       "EDGBJAKKACFIH            31\n",
       "GBJEDACKKACFIH           31\n",
       "EGBJDACFIH               28\n",
       "GBBEDJACCFIH             27\n",
       "AKKACFIHED               27\n",
       "GBJEDACFKACFIH           27\n",
       "EDGBJMACFIH              25\n",
       "GBJEDMAKKACFIH           23\n",
       "GJEDAFKAFIH              22\n",
       "GLLGBJEDACFIH            22\n",
       "GBJAEDCFIH               21\n",
       "GBEDBJACCFIH             21\n",
       "GBJEADCFIH               20\n",
       "GBJEACDFIH               19\n",
       "                       ... \n",
       "GBLLGBBJEDACFIH           1\n",
       "AKKACFIEHD                1\n",
       "GBLLGBBBJEDAKKACCFIH      1\n",
       "GEBBJDAKKACCFIH           1\n",
       "EDGBJAKKAKKACFIH          1\n",
       "AKKEACCDFIH               1\n",
       "EDGBJACKKAKKAKKACFIH      1\n",
       "GEDBBJMAKKAKKACFIH        1\n",
       "AFKAFIHED                 1\n",
       "GBJEACCFIHD               1\n",
       "ACCCFIHED                 1\n",
       "EDGJAFILH                 1\n",
       "GJEACKDKACFIH             1\n",
       "GBBBJEAKKACCFIDH          1\n",
       "GBBJEDAKKACKK             1\n",
       "EDAKKAKKACCFIH            1\n",
       "GBEJDMN                   1\n",
       "EDGJAKKAFKAFIH            1\n",
       "EGBBJAKKACCDFIH           1\n",
       "EGBDJACCFIH               1\n",
       "GBELDLGBJACFIH            1\n",
       "GBJEAFIDH                 1\n",
       "GBLLGBBBJEDACCFIH         1\n",
       "EDGLLGBBJACFIH            1\n",
       "EGBJACDFIH                1\n",
       "GJAEKDKAFIH               1\n",
       "GBJEACDCFIH               1\n",
       "ACFEIHD                   1\n",
       "GBBJEDAKKAKKAKKACFIH      1\n",
       "EDGLLGJAFIH               1\n",
       "Name: variant, Length: 611, dtype: int64"
      ]
     },
     "execution_count": 243,
     "metadata": {},
     "output_type": "execute_result"
    }
   ],
   "source": [
    "df_variant_short[~df_variant_short['variant'].isin(no_dev)]['variant'].value_counts()"
   ]
  },
  {
   "cell_type": "code",
   "execution_count": 248,
   "metadata": {},
   "outputs": [],
   "source": [
    "list = df_variant_short[~df_variant_short['variant'].isin(no_dev)].index"
   ]
  },
  {
   "cell_type": "code",
   "execution_count": 249,
   "metadata": {},
   "outputs": [
    {
     "data": {
      "text/plain": [
       "Index(['declaration 10069', 'declaration 10089', 'declaration 10106',\n",
       "       'declaration 10168', 'declaration 10279', 'declaration 1041',\n",
       "       'declaration 10455', 'declaration 10472', 'declaration 10495',\n",
       "       'declaration 10522',\n",
       "       ...\n",
       "       'declaration 9732', 'declaration 9750', 'declaration 9762',\n",
       "       'declaration 9780', 'declaration 9801', 'declaration 9838',\n",
       "       'declaration 9856', 'declaration 9918', 'declaration 9968',\n",
       "       'declaration 9995'],\n",
       "      dtype='object', name='case:concept:name', length=2745)"
      ]
     },
     "execution_count": 249,
     "metadata": {},
     "output_type": "execute_result"
    }
   ],
   "source": [
    "list"
   ]
  },
  {
   "cell_type": "code",
   "execution_count": 250,
   "metadata": {},
   "outputs": [
    {
     "data": {
      "text/html": [
       "<div>\n",
       "<style scoped>\n",
       "    .dataframe tbody tr th:only-of-type {\n",
       "        vertical-align: middle;\n",
       "    }\n",
       "\n",
       "    .dataframe tbody tr th {\n",
       "        vertical-align: top;\n",
       "    }\n",
       "\n",
       "    .dataframe thead th {\n",
       "        text-align: right;\n",
       "    }\n",
       "</style>\n",
       "<table border=\"1\" class=\"dataframe\">\n",
       "  <thead>\n",
       "    <tr style=\"text-align: right;\">\n",
       "      <th></th>\n",
       "      <th>case:concept:name</th>\n",
       "      <th>concept:name</th>\n",
       "      <th>time:timestamp</th>\n",
       "    </tr>\n",
       "  </thead>\n",
       "  <tbody>\n",
       "    <tr>\n",
       "      <th>44</th>\n",
       "      <td>declaration 10069</td>\n",
       "      <td>Permit SUBMITTED by EMPLOYEE</td>\n",
       "      <td>2018-02-21 15:28:17</td>\n",
       "    </tr>\n",
       "    <tr>\n",
       "      <th>45</th>\n",
       "      <td>declaration 10069</td>\n",
       "      <td>Permit APPROVED by ADMINISTRATION</td>\n",
       "      <td>2018-02-21 15:28:19</td>\n",
       "    </tr>\n",
       "    <tr>\n",
       "      <th>46</th>\n",
       "      <td>declaration 10069</td>\n",
       "      <td>Start trip</td>\n",
       "      <td>2018-02-21 23:00:00</td>\n",
       "    </tr>\n",
       "    <tr>\n",
       "      <th>47</th>\n",
       "      <td>declaration 10069</td>\n",
       "      <td>End trip</td>\n",
       "      <td>2018-02-21 23:00:00</td>\n",
       "    </tr>\n",
       "    <tr>\n",
       "      <th>48</th>\n",
       "      <td>declaration 10069</td>\n",
       "      <td>Permit FINAL_APPROVED by SUPERVISOR</td>\n",
       "      <td>2018-02-22 07:27:05</td>\n",
       "    </tr>\n",
       "  </tbody>\n",
       "</table>\n",
       "</div>"
      ],
      "text/plain": [
       "    case:concept:name                         concept:name      time:timestamp\n",
       "44  declaration 10069         Permit SUBMITTED by EMPLOYEE 2018-02-21 15:28:17\n",
       "45  declaration 10069    Permit APPROVED by ADMINISTRATION 2018-02-21 15:28:19\n",
       "46  declaration 10069                           Start trip 2018-02-21 23:00:00\n",
       "47  declaration 10069                             End trip 2018-02-21 23:00:00\n",
       "48  declaration 10069  Permit FINAL_APPROVED by SUPERVISOR 2018-02-22 07:27:05"
      ]
     },
     "execution_count": 250,
     "metadata": {},
     "output_type": "execute_result"
    }
   ],
   "source": [
    "df_full[df_full['case:concept:name'].isin(list)].head()"
   ]
  },
  {
   "cell_type": "code",
   "execution_count": null,
   "metadata": {},
   "outputs": [],
   "source": []
  }
 ],
 "metadata": {
  "kernelspec": {
   "display_name": "Python 3",
   "language": "python",
   "name": "python3"
  },
  "language_info": {
   "codemirror_mode": {
    "name": "ipython",
    "version": 3
   },
   "file_extension": ".py",
   "mimetype": "text/x-python",
   "name": "python",
   "nbconvert_exporter": "python",
   "pygments_lexer": "ipython3",
   "version": "3.6.5"
  }
 },
 "nbformat": 4,
 "nbformat_minor": 2
}
